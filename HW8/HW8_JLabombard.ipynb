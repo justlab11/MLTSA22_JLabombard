{
  "nbformat": 4,
  "nbformat_minor": 0,
  "metadata": {
    "colab": {
      "name": "HW8_JLabombard.ipynb",
      "provenance": [],
      "collapsed_sections": [],
      "authorship_tag": "ABX9TyNaE7RP1k/FMlzM9LhXAimc",
      "include_colab_link": true
    },
    "kernelspec": {
      "name": "python3",
      "display_name": "Python 3"
    },
    "language_info": {
      "name": "python"
    }
  },
  "cells": [
    {
      "cell_type": "markdown",
      "metadata": {
        "id": "view-in-github",
        "colab_type": "text"
      },
      "source": [
        "<a href=\"https://colab.research.google.com/github/justlab11/MLTSA22_JLabombard/blob/main/HW8/HW8_JLabombard.ipynb\" target=\"_parent\"><img src=\"https://colab.research.google.com/assets/colab-badge.svg\" alt=\"Open In Colab\"/></a>"
      ]
    },
    {
      "cell_type": "code",
      "execution_count": 1,
      "metadata": {
        "colab": {
          "base_uri": "https://localhost:8080/"
        },
        "id": "MBjQ7n2m0MnU",
        "outputId": "2863b18b-1639-4684-a3e7-9e412eb9490b"
      },
      "outputs": [
        {
          "output_type": "stream",
          "name": "stdout",
          "text": [
            "Populating the interactive namespace from numpy and matplotlib\n"
          ]
        }
      ],
      "source": [
        "import pandas as pd\n",
        "import numpy as np\n",
        "import pylab as pl\n",
        "from google.colab import drive\n",
        "from scipy.interpolate import interp1d\n",
        "import pylab as pl\n",
        "\n",
        "%pylab inline"
      ]
    },
    {
      "cell_type": "code",
      "source": [
        "drive.mount('/content/drive', force_remount=True) # this is because my drive is refusing to update"
      ],
      "metadata": {
        "id": "hPl8CNeb0v-J",
        "colab": {
          "base_uri": "https://localhost:8080/"
        },
        "outputId": "070f6603-e60f-4622-9b28-e1226c8ca5c0"
      },
      "execution_count": 2,
      "outputs": [
        {
          "output_type": "stream",
          "name": "stdout",
          "text": [
            "Mounted at /content/drive\n"
          ]
        }
      ]
    },
    {
      "cell_type": "code",
      "source": [
        "cd /content/drive/MyDrive/.kaggle"
      ],
      "metadata": {
        "colab": {
          "base_uri": "https://localhost:8080/"
        },
        "id": "vhfm1f8i_1ij",
        "outputId": "b75a1895-0dcf-4d2e-81c5-04d3a39b802f"
      },
      "execution_count": 3,
      "outputs": [
        {
          "output_type": "stream",
          "name": "stdout",
          "text": [
            "/content/drive/MyDrive/.kaggle\n"
          ]
        }
      ]
    },
    {
      "cell_type": "code",
      "source": [
        "import json\n",
        "import os\n",
        "\n",
        "envs = json.load(open(\"kaggle.json\", \"r\"))\n",
        "os.environ[\"KAGGLE_USERNAME\"] = envs['username']\n",
        "os.environ[\"KAGGLE_KEY\"] = envs['key']"
      ],
      "metadata": {
        "id": "06zisrgE_18N"
      },
      "execution_count": 4,
      "outputs": []
    },
    {
      "cell_type": "code",
      "source": [
        "cd /content/drive/MyDrive/MLTSA22/"
      ],
      "metadata": {
        "colab": {
          "base_uri": "https://localhost:8080/"
        },
        "id": "JRO3NHNH0g2A",
        "outputId": "1cbe53c2-43cc-48f0-9759-f219498213a5"
      },
      "execution_count": 5,
      "outputs": [
        {
          "output_type": "stream",
          "name": "stdout",
          "text": [
            "/content/drive/MyDrive/MLTSA22\n"
          ]
        }
      ]
    },
    {
      "cell_type": "code",
      "source": [
        "mkdir HW8"
      ],
      "metadata": {
        "id": "Q3nJlHu70l_A",
        "colab": {
          "base_uri": "https://localhost:8080/"
        },
        "outputId": "7d45d4a3-f542-405b-b453-5c4fe0285672"
      },
      "execution_count": 6,
      "outputs": [
        {
          "output_type": "stream",
          "name": "stdout",
          "text": [
            "mkdir: cannot create directory ‘HW8’: File exists\n"
          ]
        }
      ]
    },
    {
      "cell_type": "code",
      "source": [
        "cd HW8"
      ],
      "metadata": {
        "colab": {
          "base_uri": "https://localhost:8080/"
        },
        "id": "99s5sU5NBIwa",
        "outputId": "4e5037c9-142d-4d31-ff6d-bef3d52177b1"
      },
      "execution_count": 7,
      "outputs": [
        {
          "output_type": "stream",
          "name": "stdout",
          "text": [
            "/content/drive/MyDrive/MLTSA22/HW8\n"
          ]
        }
      ]
    },
    {
      "cell_type": "code",
      "source": [
        "!kaggle competitions download -c PLAsTiCC-2018"
      ],
      "metadata": {
        "colab": {
          "base_uri": "https://localhost:8080/"
        },
        "id": "Wx5avjn0_9Kg",
        "outputId": "a58764d5-5e74-4f64-9d72-fa632c689661"
      },
      "execution_count": 8,
      "outputs": [
        {
          "output_type": "stream",
          "name": "stdout",
          "text": [
            "Downloading PLAsTiCC-2018.zip to /content/drive/MyDrive/MLTSA22/HW8\n",
            "100% 13.8G/13.8G [01:47<00:00, 195MB/s]\n",
            "100% 13.8G/13.8G [01:47<00:00, 137MB/s]\n"
          ]
        }
      ]
    },
    {
      "cell_type": "code",
      "source": [
        "!unzip PLAsTiCC-2018"
      ],
      "metadata": {
        "colab": {
          "base_uri": "https://localhost:8080/"
        },
        "id": "Fq6xDcoI_-E_",
        "outputId": "d1ce418b-591c-43aa-af3d-5f9ccbabebf2"
      },
      "execution_count": 9,
      "outputs": [
        {
          "output_type": "stream",
          "name": "stdout",
          "text": [
            "Archive:  PLAsTiCC-2018.zip\n",
            "  inflating: data_note.pdf           \n",
            "  inflating: sample_submission.csv   \n",
            "  inflating: test_set.csv            \n",
            "  inflating: test_set_batch1.csv     \n",
            "  inflating: test_set_batch10.csv    \n",
            "  inflating: test_set_batch11.csv    \n",
            "  inflating: test_set_batch2.csv     \n",
            "  inflating: test_set_batch3.csv     \n",
            "  inflating: test_set_batch4.csv     \n",
            "  inflating: test_set_batch5.csv     \n",
            "  inflating: test_set_batch6.csv     \n",
            "  inflating: test_set_batch7.csv     \n",
            "  inflating: test_set_batch8.csv     \n",
            "  inflating: test_set_batch9.csv     \n",
            "  inflating: test_set_metadata.csv   \n",
            "  inflating: test_set_sample.csv     \n",
            "  inflating: training_set.csv        \n",
            "  inflating: training_set_metadata.csv  \n"
          ]
        }
      ]
    },
    {
      "cell_type": "code",
      "source": [
        "lcvs = pd.read_csv(\"training_set.csv\")"
      ],
      "metadata": {
        "id": "_Grl6shX0pCb"
      },
      "execution_count": 10,
      "outputs": []
    },
    {
      "cell_type": "code",
      "source": [
        "time_scaled = lcvs.groupby([\"object_id\", \"passband\"])[\"mjd\"].apply(lambda x: x-(x.min()))\n",
        "lcvs[\"mjd_scaled\"] = time_scaled.values"
      ],
      "metadata": {
        "id": "ks0y9NIs0qV3"
      },
      "execution_count": 11,
      "outputs": []
    },
    {
      "cell_type": "markdown",
      "source": [
        "The variable `mjd_scaled` shows `mjd` starting at zero for each bandpass and increasing in number of days. Below shows `mjd` vs `mjd_scaled` for the same band of the same object. `mjd_scaled` starts at 0 due to being scaled by the minimum of `mjd`."
      ],
      "metadata": {
        "id": "B_EHQQWPId9B"
      }
    },
    {
      "cell_type": "code",
      "source": [
        "lcvs[lcvs[\"object_id\"]== 615][lcvs[lcvs[\"object_id\"]== 615][\"passband\"]==2][[\"mjd\", \"mjd_scaled\"]].head(10)"
      ],
      "metadata": {
        "colab": {
          "base_uri": "https://localhost:8080/",
          "height": 363
        },
        "id": "R0uhSbHjIc-R",
        "outputId": "2c2c4fa2-b06f-4e6f-a5dc-e5d82ef77479"
      },
      "execution_count": 12,
      "outputs": [
        {
          "output_type": "execute_result",
          "data": {
            "text/plain": [
              "           mjd  mjd_scaled\n",
              "0   59750.4229      0.0000\n",
              "4   59752.4070      1.9841\n",
              "9   59767.2968     16.8739\n",
              "14  59770.2179     19.7950\n",
              "19  59779.3188     28.8959\n",
              "24  59782.1897     31.7668\n",
              "29  59797.2861     46.8632\n",
              "34  59800.3168     49.8939\n",
              "39  59807.1738     56.7509\n",
              "44  59810.1045     59.6816"
            ],
            "text/html": [
              "\n",
              "  <div id=\"df-cbd612f1-185a-4d31-ae61-9cb0df43f84a\">\n",
              "    <div class=\"colab-df-container\">\n",
              "      <div>\n",
              "<style scoped>\n",
              "    .dataframe tbody tr th:only-of-type {\n",
              "        vertical-align: middle;\n",
              "    }\n",
              "\n",
              "    .dataframe tbody tr th {\n",
              "        vertical-align: top;\n",
              "    }\n",
              "\n",
              "    .dataframe thead th {\n",
              "        text-align: right;\n",
              "    }\n",
              "</style>\n",
              "<table border=\"1\" class=\"dataframe\">\n",
              "  <thead>\n",
              "    <tr style=\"text-align: right;\">\n",
              "      <th></th>\n",
              "      <th>mjd</th>\n",
              "      <th>mjd_scaled</th>\n",
              "    </tr>\n",
              "  </thead>\n",
              "  <tbody>\n",
              "    <tr>\n",
              "      <th>0</th>\n",
              "      <td>59750.4229</td>\n",
              "      <td>0.0000</td>\n",
              "    </tr>\n",
              "    <tr>\n",
              "      <th>4</th>\n",
              "      <td>59752.4070</td>\n",
              "      <td>1.9841</td>\n",
              "    </tr>\n",
              "    <tr>\n",
              "      <th>9</th>\n",
              "      <td>59767.2968</td>\n",
              "      <td>16.8739</td>\n",
              "    </tr>\n",
              "    <tr>\n",
              "      <th>14</th>\n",
              "      <td>59770.2179</td>\n",
              "      <td>19.7950</td>\n",
              "    </tr>\n",
              "    <tr>\n",
              "      <th>19</th>\n",
              "      <td>59779.3188</td>\n",
              "      <td>28.8959</td>\n",
              "    </tr>\n",
              "    <tr>\n",
              "      <th>24</th>\n",
              "      <td>59782.1897</td>\n",
              "      <td>31.7668</td>\n",
              "    </tr>\n",
              "    <tr>\n",
              "      <th>29</th>\n",
              "      <td>59797.2861</td>\n",
              "      <td>46.8632</td>\n",
              "    </tr>\n",
              "    <tr>\n",
              "      <th>34</th>\n",
              "      <td>59800.3168</td>\n",
              "      <td>49.8939</td>\n",
              "    </tr>\n",
              "    <tr>\n",
              "      <th>39</th>\n",
              "      <td>59807.1738</td>\n",
              "      <td>56.7509</td>\n",
              "    </tr>\n",
              "    <tr>\n",
              "      <th>44</th>\n",
              "      <td>59810.1045</td>\n",
              "      <td>59.6816</td>\n",
              "    </tr>\n",
              "  </tbody>\n",
              "</table>\n",
              "</div>\n",
              "      <button class=\"colab-df-convert\" onclick=\"convertToInteractive('df-cbd612f1-185a-4d31-ae61-9cb0df43f84a')\"\n",
              "              title=\"Convert this dataframe to an interactive table.\"\n",
              "              style=\"display:none;\">\n",
              "        \n",
              "  <svg xmlns=\"http://www.w3.org/2000/svg\" height=\"24px\"viewBox=\"0 0 24 24\"\n",
              "       width=\"24px\">\n",
              "    <path d=\"M0 0h24v24H0V0z\" fill=\"none\"/>\n",
              "    <path d=\"M18.56 5.44l.94 2.06.94-2.06 2.06-.94-2.06-.94-.94-2.06-.94 2.06-2.06.94zm-11 1L8.5 8.5l.94-2.06 2.06-.94-2.06-.94L8.5 2.5l-.94 2.06-2.06.94zm10 10l.94 2.06.94-2.06 2.06-.94-2.06-.94-.94-2.06-.94 2.06-2.06.94z\"/><path d=\"M17.41 7.96l-1.37-1.37c-.4-.4-.92-.59-1.43-.59-.52 0-1.04.2-1.43.59L10.3 9.45l-7.72 7.72c-.78.78-.78 2.05 0 2.83L4 21.41c.39.39.9.59 1.41.59.51 0 1.02-.2 1.41-.59l7.78-7.78 2.81-2.81c.8-.78.8-2.07 0-2.86zM5.41 20L4 18.59l7.72-7.72 1.47 1.35L5.41 20z\"/>\n",
              "  </svg>\n",
              "      </button>\n",
              "      \n",
              "  <style>\n",
              "    .colab-df-container {\n",
              "      display:flex;\n",
              "      flex-wrap:wrap;\n",
              "      gap: 12px;\n",
              "    }\n",
              "\n",
              "    .colab-df-convert {\n",
              "      background-color: #E8F0FE;\n",
              "      border: none;\n",
              "      border-radius: 50%;\n",
              "      cursor: pointer;\n",
              "      display: none;\n",
              "      fill: #1967D2;\n",
              "      height: 32px;\n",
              "      padding: 0 0 0 0;\n",
              "      width: 32px;\n",
              "    }\n",
              "\n",
              "    .colab-df-convert:hover {\n",
              "      background-color: #E2EBFA;\n",
              "      box-shadow: 0px 1px 2px rgba(60, 64, 67, 0.3), 0px 1px 3px 1px rgba(60, 64, 67, 0.15);\n",
              "      fill: #174EA6;\n",
              "    }\n",
              "\n",
              "    [theme=dark] .colab-df-convert {\n",
              "      background-color: #3B4455;\n",
              "      fill: #D2E3FC;\n",
              "    }\n",
              "\n",
              "    [theme=dark] .colab-df-convert:hover {\n",
              "      background-color: #434B5C;\n",
              "      box-shadow: 0px 1px 3px 1px rgba(0, 0, 0, 0.15);\n",
              "      filter: drop-shadow(0px 1px 2px rgba(0, 0, 0, 0.3));\n",
              "      fill: #FFFFFF;\n",
              "    }\n",
              "  </style>\n",
              "\n",
              "      <script>\n",
              "        const buttonEl =\n",
              "          document.querySelector('#df-cbd612f1-185a-4d31-ae61-9cb0df43f84a button.colab-df-convert');\n",
              "        buttonEl.style.display =\n",
              "          google.colab.kernel.accessAllowed ? 'block' : 'none';\n",
              "\n",
              "        async function convertToInteractive(key) {\n",
              "          const element = document.querySelector('#df-cbd612f1-185a-4d31-ae61-9cb0df43f84a');\n",
              "          const dataTable =\n",
              "            await google.colab.kernel.invokeFunction('convertToInteractive',\n",
              "                                                     [key], {});\n",
              "          if (!dataTable) return;\n",
              "\n",
              "          const docLinkHtml = 'Like what you see? Visit the ' +\n",
              "            '<a target=\"_blank\" href=https://colab.research.google.com/notebooks/data_table.ipynb>data table notebook</a>'\n",
              "            + ' to learn more about interactive tables.';\n",
              "          element.innerHTML = '';\n",
              "          dataTable['output_type'] = 'display_data';\n",
              "          await google.colab.output.renderOutput(dataTable, element);\n",
              "          const docLink = document.createElement('div');\n",
              "          docLink.innerHTML = docLinkHtml;\n",
              "          element.appendChild(docLink);\n",
              "        }\n",
              "      </script>\n",
              "    </div>\n",
              "  </div>\n",
              "  "
            ]
          },
          "metadata": {},
          "execution_count": 12
        }
      ]
    },
    {
      "cell_type": "code",
      "source": [
        "needed_vals = lcvs.groupby([\"object_id\", \"passband\"], as_index=False)[[\"object_id\", \"passband\",\"mjd_scaled\", \"flux\"]]\n",
        "sectioned_df = pd.DataFrame(needed_vals)"
      ],
      "metadata": {
        "id": "JQdy-t6c0ztL"
      },
      "execution_count": 13,
      "outputs": []
    },
    {
      "cell_type": "code",
      "source": [
        "lerp = []\n",
        "\n",
        "for i in range(sectioned_df[1].shape[0]):\n",
        "  x = sectioned_df[1][i][\"mjd_scaled\"].values\n",
        "  y = sectioned_df[1][i][\"flux\"].values\n",
        "  xnew = np.linspace(0, int(max(x)), num=100, endpoint=True)\n",
        "\n",
        "  lerp.append(interp1d(x,y, kind=\"linear\")(xnew))"
      ],
      "metadata": {
        "id": "gVGxY5vH1J8V"
      },
      "execution_count": 14,
      "outputs": []
    },
    {
      "cell_type": "code",
      "source": [
        "num = 265\n",
        "\n",
        "id = lcvs[\"object_id\"].unique()[int(num // 6)]\n",
        "band = int(num % 6)\n",
        "\n",
        "pl.plot(lerp[num]);\n",
        "pl.title(\"Linear Interpolation\");\n",
        "pl.ylabel(f\"Object {id} on Passband {band}\");\n",
        "pl.xlabel(\"Days\");"
      ],
      "metadata": {
        "colab": {
          "base_uri": "https://localhost:8080/",
          "height": 295
        },
        "id": "8DM6DWLJLG6O",
        "outputId": "ef9f7c4d-11e1-4bb9-8801-cf5528a9414f"
      },
      "execution_count": 15,
      "outputs": [
        {
          "output_type": "display_data",
          "data": {
            "text/plain": [
              "<Figure size 432x288 with 1 Axes>"
            ],
            "image/png": "[encoded data removed]"
          },
          "metadata": {
            "needs_background": "light"
          }
        }
      ]
    },
    {
      "cell_type": "markdown",
      "source": [
        "Figure 1: Linear interpolation applied to passband 1 of object 8688. The linear interpolation provides 100 points of interpolated data. The data takes on the same shape of the original data, just with more points, which is why it still looks jagged and scattered."
      ],
      "metadata": {
        "id": "JbTFDZj_OmMx"
      }
    },
    {
      "cell_type": "code",
      "source": [
        "# remove objects with less than 4 datapoints from the data. The cubic interpolator can't handle <4 points\n",
        "bad_obj = []\n",
        "lcvs.groupby([\"object_id\", \"passband\"])[\"object_id\"].apply(lambda x: bad_obj.append(x.values[0]) if len(x.values) < 5 else None)\n",
        "\n",
        "for id in bad_obj:\n",
        "  lcvs = lcvs[lcvs.object_id != id]\n",
        "\n",
        "needed_vals = lcvs.groupby([\"object_id\", \"passband\"], as_index=False)[[\"object_id\", \"passband\",\"mjd_scaled\", \"flux\"]]\n",
        "sectioned_df = pd.DataFrame(needed_vals)"
      ],
      "metadata": {
        "id": "xn1OFDFxApIr"
      },
      "execution_count": 16,
      "outputs": []
    },
    {
      "cell_type": "code",
      "source": [
        "cubic_ipl = []\n",
        "\n",
        "for i in range(sectioned_df[1].shape[0]):\n",
        "  x = sectioned_df[1][i][\"mjd_scaled\"].values\n",
        "  y = sectioned_df[1][i][\"flux\"].values\n",
        "  xnew = np.linspace(0, int(max(x)), num=100, endpoint=True)\n",
        "\n",
        "  cubic_ipl.append(interp1d(x,y, kind=\"cubic\")(xnew))"
      ],
      "metadata": {
        "id": "qJTf8Xb97hzY"
      },
      "execution_count": 17,
      "outputs": []
    },
    {
      "cell_type": "code",
      "source": [
        "num = 265\n",
        "\n",
        "id = lcvs[\"object_id\"].unique()[int(num // 6)]\n",
        "band = int(num % 6)\n",
        "\n",
        "pl.plot(cubic_ipl[num]);\n",
        "pl.title(\"Cubic Interpolation\");\n",
        "pl.ylabel(f\"Object {id} on Passband {band}\");\n",
        "pl.xlabel(\"Days\");"
      ],
      "metadata": {
        "colab": {
          "base_uri": "https://localhost:8080/",
          "height": 295
        },
        "id": "y0KVg9nvPa9H",
        "outputId": "24ad1987-fca2-4183-adfd-75224b8de94c"
      },
      "execution_count": 18,
      "outputs": [
        {
          "output_type": "display_data",
          "data": {
            "text/plain": [
              "<Figure size 432x288 with 1 Axes>"
            ],
            "image/png": "[encoded data removed]"
          },
          "metadata": {
            "needs_background": "light"
          }
        }
      ]
    },
    {
      "cell_type": "markdown",
      "source": [
        "Figure 2: Cubic interpolation applied to passband 1 of object 8688. This is the same original data as shown in Figure 1. The data loses its original shape, but it looks more continuous than the linear interpolation. It also has larger minimas and maximas (goes up to 60 and down to -40) which does not match the original data. "
      ],
      "metadata": {
        "id": "x4RuzVUcPlbm"
      }
    },
    {
      "cell_type": "code",
      "source": [
        "lerp = np.array(lerp)\n",
        "lerp = lerp.flatten()\n",
        "\n",
        "cubic_ipl = np.array(cubic_ipl)\n",
        "cubic_ipl = cubic_ipl.flatten()"
      ],
      "metadata": {
        "id": "HLJylAqq1PFO"
      },
      "execution_count": 19,
      "outputs": []
    },
    {
      "cell_type": "code",
      "source": [
        "print(f\"linear interpolation shape: {lerp.shape}\")\n",
        "print(f\"cubic interpolation shape: {cubic_ipl.shape}\")"
      ],
      "metadata": {
        "colab": {
          "base_uri": "https://localhost:8080/"
        },
        "id": "N3UVvfyioU1v",
        "outputId": "7987b834-8114-41ab-e3ea-38cfbcff6345"
      },
      "execution_count": 20,
      "outputs": [
        {
          "output_type": "stream",
          "name": "stdout",
          "text": [
            "linear interpolation shape: (4708800,)\n",
            "cubic interpolation shape: (4696200,)\n"
          ]
        }
      ]
    },
    {
      "cell_type": "markdown",
      "source": [
        "Both interpolators form the same shape, a 1-D array with all of the datapoints. Cubic lost some of the data due to some data not having enough datapoints (<4)."
      ],
      "metadata": {
        "id": "OMEQzJysomh9"
      }
    },
    {
      "cell_type": "markdown",
      "source": [
        "I have chosen to export both linear interpolation and cubic interpolation because I would like to test both results. They both have pros and cons, but I do not know which one will perform better."
      ],
      "metadata": {
        "id": "s7xkt1bWRJjg"
      }
    },
    {
      "cell_type": "code",
      "source": [
        "np.save(\"/content/drive/MyDrive/MLTSA22/HW8/lin_ipl.npy\", lerp) # linear interpolation\n",
        "np.save(\"/content/drive/MyDrive/MLTSA22/HW8/cub_ipl.npy\", cubic_ipl) # cubic interpolation"
      ],
      "metadata": {
        "id": "40xRIMsW1Qa_"
      },
      "execution_count": 21,
      "outputs": []
    },
    {
      "cell_type": "code",
      "source": [
        ""
      ],
      "metadata": {
        "id": "Xln-PthL5aw8"
      },
      "execution_count": 21,
      "outputs": []
    }
  ]
}